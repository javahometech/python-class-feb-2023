{
 "cells": [
  {
   "attachments": {},
   "cell_type": "markdown",
   "metadata": {},
   "source": [
    "### 1 Email Slicer"
   ]
  },
  {
   "attachments": {},
   "cell_type": "markdown",
   "metadata": {},
   "source": [
    "> write a function to slice email and domain from an email address. Print that in a representable way\n",
    "\n",
    "    function input - email\n",
    "    function output - printing the username and domain\n",
    "\n",
    "    example input and outputs\n",
    "    \"someone@example.com\" -> username - someone, domain - example"
   ]
  },
  {
   "cell_type": "code",
   "execution_count": 1,
   "metadata": {},
   "outputs": [],
   "source": [
    "email = \"someone@example.com\""
   ]
  },
  {
   "cell_type": "code",
   "execution_count": 5,
   "metadata": {},
   "outputs": [],
   "source": [
    "def email_slicer(email): \n",
    "    name, fqdn = email.split(\"@\") \n",
    "    domain_name = fqdn.split(\".\")[0] \n",
    "    \n",
    "    print(f\"Name -> {name.title()}, Domain -> {domain_name}\") \n",
    "    return name, domain_name"
   ]
  },
  {
   "cell_type": "code",
   "execution_count": 6,
   "metadata": {},
   "outputs": [
    {
     "name": "stdout",
     "output_type": "stream",
     "text": [
      "Name -> Someone, Domain -> example\n"
     ]
    }
   ],
   "source": [
    "name, domain_name = email_slicer(email)"
   ]
  },
  {
   "cell_type": "code",
   "execution_count": 8,
   "metadata": {},
   "outputs": [
    {
     "data": {
      "text/plain": [
       "'someone'"
      ]
     },
     "execution_count": 8,
     "metadata": {},
     "output_type": "execute_result"
    }
   ],
   "source": [
    "name"
   ]
  },
  {
   "cell_type": "code",
   "execution_count": 9,
   "metadata": {},
   "outputs": [
    {
     "data": {
      "text/plain": [
       "'example'"
      ]
     },
     "execution_count": 9,
     "metadata": {},
     "output_type": "execute_result"
    }
   ],
   "source": [
    "domain_name"
   ]
  },
  {
   "attachments": {},
   "cell_type": "markdown",
   "metadata": {},
   "source": [
    "### 2 Currency Convertor"
   ]
  },
  {
   "attachments": {},
   "cell_type": "markdown",
   "metadata": {},
   "source": [
    "> Write a program to convert rupee to dollar and vice versa\n",
    "\n",
    "    function input - amount, input_currency, output_currency\n",
    "    function output - printing the currency conversion\n",
    "\n",
    "    supported values\n",
    "    input_currency = rupee, dollar\n",
    "    output_currency = rupee, dollar\n",
    "\n",
    "    note : you can take the current values of inr to dollar conversion\n",
    "\n",
    "    note - handle unsupported currency values by telling the user that the operation is not supported\n",
    "\n",
    "    example inputs and ouptuts -> \n",
    "    4, \"rupee\", \"dollar\" -> converted currency value\n",
    "    20, \"dollar\", \"rupee\" -> converted currency value"
   ]
  },
  {
   "cell_type": "code",
   "execution_count": 24,
   "metadata": {},
   "outputs": [],
   "source": [
    "inr_to_dollar = 0.012\n",
    "dollar_to_inr = 82.67\n",
    "\n",
    "def currency_convertor(amount, input_currency, output_currency):\n",
    "    # if (type(amount) == int) or (type(amount) == float):\n",
    "    #     pass\n",
    "\n",
    "    if type(amount) in [int, float]:\n",
    "        if (input_currency == \"rupee\") and (output_currency == \"dollar\"):\n",
    "            converted_currency = amount * inr_to_dollar\n",
    "            return converted_currency\n",
    "        \n",
    "        elif (input_currency == \"dollar\") and (output_currency == \"rupee\"):\n",
    "            converted_currency = amount * dollar_to_inr\n",
    "            return converted_currency\n",
    "        \n",
    "        else:\n",
    "            return None \n",
    "    \n",
    "    else:\n",
    "        print(\"printing before return value\")\n",
    "        return None\n",
    "        print(\"printing after return value\")"
   ]
  },
  {
   "cell_type": "code",
   "execution_count": null,
   "metadata": {},
   "outputs": [],
   "source": [
    "inr_to_dollar = 0.012\n",
    "dollar_to_inr = 82.67\n",
    "\n",
    "if type(amount) in [int, float]:\n",
    "    if (input_currency == \"rupee\") and (output_currency == \"dollar\"):\n",
    "        converted_currency = amount * inr_to_dollar\n",
    "        print(converted_currency)\n",
    "    \n",
    "    elif (input_currency == \"dollar\") and (output_currency == \"rupee\"):\n",
    "        converted_currency = amount * dollar_to_inr\n",
    "        print(converted_currency)\n",
    "    \n",
    "    else:\n",
    "        print(\"None\")\n",
    "\n",
    "else:\n",
    "    print(\"None\")"
   ]
  },
  {
   "cell_type": "code",
   "execution_count": 26,
   "metadata": {},
   "outputs": [
    {
     "ename": "SyntaxError",
     "evalue": "'return' outside function (3438313781.py, line 1)",
     "output_type": "error",
     "traceback": [
      "\u001b[0;36m  Cell \u001b[0;32mIn[26], line 1\u001b[0;36m\u001b[0m\n\u001b[0;31m    return\u001b[0m\n\u001b[0m    ^\u001b[0m\n\u001b[0;31mSyntaxError\u001b[0m\u001b[0;31m:\u001b[0m 'return' outside function\n"
     ]
    }
   ],
   "source": [
    "return"
   ]
  },
  {
   "cell_type": "code",
   "execution_count": 18,
   "metadata": {},
   "outputs": [],
   "source": [
    "converted_currency = currency_convertor(999, \"dollar\", \"rupee\")"
   ]
  },
  {
   "cell_type": "code",
   "execution_count": 20,
   "metadata": {},
   "outputs": [
    {
     "data": {
      "text/plain": [
       "82587.33"
      ]
     },
     "execution_count": 20,
     "metadata": {},
     "output_type": "execute_result"
    }
   ],
   "source": [
    "converted_currency"
   ]
  },
  {
   "cell_type": "code",
   "execution_count": 19,
   "metadata": {},
   "outputs": [],
   "source": [
    "converted_currency = currency_convertor(\n",
    "    amount=999, \n",
    "    input_currency=\"dollar\",\n",
    "    output_currency=\"rupee\"\n",
    ")"
   ]
  },
  {
   "cell_type": "code",
   "execution_count": 25,
   "metadata": {},
   "outputs": [
    {
     "name": "stdout",
     "output_type": "stream",
     "text": [
      "printing before return value\n"
     ]
    }
   ],
   "source": [
    "converted_currency = currency_convertor(\n",
    "    amount=\"ninety\", \n",
    "    input_currency=\"dollar\",\n",
    "    output_currency=\"rupee\"\n",
    ")"
   ]
  },
  {
   "cell_type": "code",
   "execution_count": 23,
   "metadata": {},
   "outputs": [
    {
     "data": {
      "text/plain": [
       "NoneType"
      ]
     },
     "execution_count": 23,
     "metadata": {},
     "output_type": "execute_result"
    }
   ],
   "source": [
    "type(converted_currency)"
   ]
  },
  {
   "cell_type": "code",
   "execution_count": 22,
   "metadata": {},
   "outputs": [],
   "source": [
    "converted_currency"
   ]
  },
  {
   "cell_type": "code",
   "execution_count": null,
   "metadata": {},
   "outputs": [],
   "source": []
  },
  {
   "cell_type": "code",
   "execution_count": null,
   "metadata": {},
   "outputs": [],
   "source": []
  },
  {
   "cell_type": "code",
   "execution_count": null,
   "metadata": {},
   "outputs": [],
   "source": [
    "inr_to_dollar = 0.012\n",
    "dollar_to_inr = 82.67\n",
    "\n",
    "def currency_convertor(amount, input_currency, output_currency):\n",
    "    if type(amount) in [int, float]:\n",
    "        if (input_currency == \"rupee\") and (output_currency == \"dollar\"):\n",
    "            converted_currency = amount * inr_to_dollar\n",
    "            return converted_currency\n",
    "        \n",
    "        elif (input_currency == \"dollar\") and (output_currency == \"rupee\"):\n",
    "            converted_currency = amount * dollar_to_inr\n",
    "            return converted_currency\n",
    "        \n",
    "        else:\n",
    "            return None \n",
    "    \n",
    "    else:\n",
    "        print(\"printing before return value\")\n",
    "        return None\n",
    "        print(\"printing after return value\")"
   ]
  },
  {
   "cell_type": "code",
   "execution_count": 27,
   "metadata": {},
   "outputs": [],
   "source": [
    "amount, input_currency, output_currency = 5, \"rupee\", \"dollar\""
   ]
  },
  {
   "cell_type": "code",
   "execution_count": 30,
   "metadata": {},
   "outputs": [
    {
     "data": {
      "text/plain": [
       "True"
      ]
     },
     "execution_count": 30,
     "metadata": {},
     "output_type": "execute_result"
    }
   ],
   "source": [
    "type(amount) in [int, float]"
   ]
  },
  {
   "cell_type": "code",
   "execution_count": 31,
   "metadata": {},
   "outputs": [
    {
     "data": {
      "text/plain": [
       "True"
      ]
     },
     "execution_count": 31,
     "metadata": {},
     "output_type": "execute_result"
    }
   ],
   "source": [
    "(input_currency == \"rupee\") and (output_currency == \"dollar\")"
   ]
  },
  {
   "cell_type": "code",
   "execution_count": 32,
   "metadata": {},
   "outputs": [],
   "source": [
    "converted_currency = amount * inr_to_dollar"
   ]
  },
  {
   "cell_type": "code",
   "execution_count": 33,
   "metadata": {},
   "outputs": [
    {
     "data": {
      "text/plain": [
       "0.06"
      ]
     },
     "execution_count": 33,
     "metadata": {},
     "output_type": "execute_result"
    }
   ],
   "source": [
    "converted_currency"
   ]
  },
  {
   "cell_type": "code",
   "execution_count": null,
   "metadata": {},
   "outputs": [],
   "source": [
    "if type(amount) in [int, float]:\n",
    "    if (input_currency == \"rupee\") and (output_currency == \"dollar\"):\n",
    "        converted_currency = amount * inr_to_dollar\n",
    "        return converted_currency\n",
    "    \n",
    "    elif (input_currency == \"dollar\") and (output_currency == \"rupee\"):\n",
    "        converted_currency = amount * dollar_to_inr\n",
    "        return converted_currency\n",
    "    \n",
    "    else:\n",
    "        return None \n",
    "\n",
    "else:\n",
    "    print(\"printing before return value\")\n",
    "    return None\n",
    "    print(\"printing after return value\")"
   ]
  },
  {
   "attachments": {},
   "cell_type": "markdown",
   "metadata": {},
   "source": [
    "### 3 Number guesser"
   ]
  },
  {
   "attachments": {},
   "cell_type": "markdown",
   "metadata": {},
   "source": [
    "> Write a program to guess a number between 1 and 10\n",
    "\n",
    "    hint: use a while loop for continuous input\n",
    "\n",
    "    logic: take the input from the user as an input using a while loop and break out of the loop when the user's input is same as the function input\n",
    "\n",
    "    function input - number (assuming its only in the backend)\n",
    "    function output - printing the wrong number guessed and the right number guessed\n",
    "\n",
    "    example inputs and outputs\n",
    "    3 -> wrong or right number guessed\n",
    "    6 -> wrong or right number guessed\n",
    "    8 -> wrong or right number guessed"
   ]
  },
  {
   "cell_type": "code",
   "execution_count": null,
   "metadata": {},
   "outputs": [],
   "source": [
    "def number_guesser(right_number):\n",
    "    # implement the program\n",
    "\n",
    "    # while loop\n",
    "        # take input from the user\n",
    "        # use if conditions to check the input is lesser than or greater than or equal to the right_number\n",
    "            # when equal break out of the loop and say its a right number guessed\n",
    "            # when others say its a wrong number guessed\n",
    "    pass"
   ]
  },
  {
   "attachments": {},
   "cell_type": "markdown",
   "metadata": {},
   "source": [
    "### 4 Calculator app"
   ]
  },
  {
   "attachments": {},
   "cell_type": "markdown",
   "metadata": {},
   "source": [
    "> Write a program to build a calculator\n",
    "\n",
    "    function input - number1, number2, operation\n",
    "    function output - print the calculation\n",
    "\n",
    "    supported values of operation - add, subtract, multiply, division\n",
    "\n",
    "    note: handle unsupported operations as well by telling the user this operation is not supported\n",
    "\n",
    "    example inputs & outputs\n",
    "    2, 3, \"add\" - 5\n",
    "    4, 5, \"multiply\" - 20"
   ]
  },
  {
   "cell_type": "code",
   "execution_count": null,
   "metadata": {},
   "outputs": [],
   "source": [
    "def calculator(number1, number2, operation):\n",
    "    # implement the program\n",
    "    pass"
   ]
  },
  {
   "attachments": {},
   "cell_type": "markdown",
   "metadata": {},
   "source": [
    "### 5 FAQ Bot"
   ]
  },
  {
   "attachments": {},
   "cell_type": "markdown",
   "metadata": {},
   "source": [
    "> Write a program to answer built a faq bot\n",
    "\n",
    "    requirements:\n",
    "    - a fixed set of qestion answer mapping is already defined (refer below dict)\n",
    "\n",
    "    function input - question\n",
    "    function output - printing the answer\n",
    "\n",
    "    note - unsupported questions should notify the user that the operation is not supported\n",
    "\n",
    "    example inputs and outputs\n",
    "    \"Who is the PM of India?\" -> \"Narendra Modi\"\n",
    "    \"Who is the PM of China?\" -> \"Unsupported operation, please try again\""
   ]
  },
  {
   "cell_type": "code",
   "execution_count": null,
   "metadata": {},
   "outputs": [],
   "source": [
    "def faq_bot(question):\n",
    "    knowledge_bank = {\n",
    "        # you can add more questions to this dictionary\n",
    "        \"Who is the PM of India?\": \"Narendra Modi\",\n",
    "        \"When did India get its independence?\": \"1947\",\n",
    "        \"What is the currency of India?\": \"Rupee\"\n",
    "    }\n",
    "\n",
    "    # check if the input question is available in the knowledge bank or not\n",
    "    # if present -> give the answer\n",
    "    # else -> throw error\n",
    "    pass"
   ]
  },
  {
   "attachments": {},
   "cell_type": "markdown",
   "metadata": {},
   "source": [
    "### 6 Palindrome generator"
   ]
  },
  {
   "attachments": {},
   "cell_type": "markdown",
   "metadata": {},
   "source": [
    "> Write a program to generate a palindrome of a string\n",
    "\n",
    "    function input - string\n",
    "    function output - palindrome string\n",
    "\n",
    "    example inputs and outputs\n",
    "    \"hello\" -> \"olleh\"\n",
    "    \"welcome\" -> \"emoclew\""
   ]
  },
  {
   "cell_type": "code",
   "execution_count": null,
   "metadata": {},
   "outputs": [],
   "source": [
    "def palindrome_generator(string):\n",
    "    # implement the program\n",
    "    pass"
   ]
  },
  {
   "attachments": {},
   "cell_type": "markdown",
   "metadata": {},
   "source": [
    "### 7 Acronyms generator"
   ]
  },
  {
   "attachments": {},
   "cell_type": "markdown",
   "metadata": {},
   "source": [
    "> Write a program to generate acronyms of a string\n",
    "\n",
    "    function input - string\n",
    "    function output - acronym\n",
    "\n",
    "    example inputs and outputs\n",
    "    \"Artificial Intelligence\" -> \"AI\"\n",
    "    \"machine learning\" -> \"ML\"\n",
    "    \"Indian space research Organisation\" -> \"ISRO\""
   ]
  },
  {
   "cell_type": "code",
   "execution_count": null,
   "metadata": {},
   "outputs": [],
   "source": [
    "def acronyms_generator(string):\n",
    "    # implement the program\n",
    "    pass"
   ]
  },
  {
   "cell_type": "code",
   "execution_count": null,
   "metadata": {},
   "outputs": [],
   "source": []
  }
 ],
 "metadata": {
  "kernelspec": {
   "display_name": "Python 3 (ipykernel)",
   "language": "python",
   "name": "python3"
  },
  "language_info": {
   "codemirror_mode": {
    "name": "ipython",
    "version": 3
   },
   "file_extension": ".py",
   "mimetype": "text/x-python",
   "name": "python",
   "nbconvert_exporter": "python",
   "pygments_lexer": "ipython3",
   "version": "3.9.16"
  },
  "orig_nbformat": 4
 },
 "nbformat": 4,
 "nbformat_minor": 2
}
