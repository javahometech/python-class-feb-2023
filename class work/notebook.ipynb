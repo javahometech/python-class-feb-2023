{
 "cells": [
  {
   "cell_type": "code",
   "execution_count": 1,
   "metadata": {},
   "outputs": [],
   "source": [
    "from uuid import uuid4"
   ]
  },
  {
   "cell_type": "code",
   "execution_count": 2,
   "metadata": {},
   "outputs": [],
   "source": [
    "import uuid"
   ]
  },
  {
   "cell_type": "code",
   "execution_count": 3,
   "metadata": {},
   "outputs": [
    {
     "data": {
      "text/plain": [
       "<module 'uuid' from '/usr/local/lib/python3.9/uuid.py'>"
      ]
     },
     "execution_count": 3,
     "metadata": {},
     "output_type": "execute_result"
    }
   ],
   "source": [
    "uuid"
   ]
  },
  {
   "cell_type": "code",
   "execution_count": 4,
   "metadata": {},
   "outputs": [],
   "source": [
    "import utils"
   ]
  },
  {
   "cell_type": "code",
   "execution_count": 6,
   "metadata": {},
   "outputs": [
    {
     "data": {
      "text/plain": [
       "<module 'utils' from '/workspaces/python-class-feb-2023/class work/utils.py'>"
      ]
     },
     "execution_count": 6,
     "metadata": {},
     "output_type": "execute_result"
    }
   ],
   "source": [
    "utils"
   ]
  },
  {
   "cell_type": "code",
   "execution_count": 7,
   "metadata": {},
   "outputs": [],
   "source": [
    "import requests"
   ]
  },
  {
   "cell_type": "code",
   "execution_count": 8,
   "metadata": {},
   "outputs": [
    {
     "data": {
      "text/plain": [
       "<module 'requests' from '/home/vscode/.local/lib/python3.9/site-packages/requests/__init__.py'>"
      ]
     },
     "execution_count": 8,
     "metadata": {},
     "output_type": "execute_result"
    }
   ],
   "source": [
    "requests"
   ]
  },
  {
   "cell_type": "code",
   "execution_count": null,
   "metadata": {},
   "outputs": [],
   "source": [
    "Esc -> l\n",
    "line numbers, jupyter notebook"
   ]
  },
  {
   "cell_type": "code",
   "execution_count": 32,
   "metadata": {},
   "outputs": [],
   "source": [
    "class Car:\n",
    "    location = \"new york\"\n",
    "    \n",
    "    def __init__(self, make, model, year, type=\"suv\"):\n",
    "        self.init_make = make\n",
    "        self.init_model = model\n",
    "        self.init_year = year\n",
    "        self.init_type = type\n",
    "\n",
    "        self.init_vin = str(uuid4())\n",
    "\n",
    "\n",
    "    def get_car_details(self):\n",
    "        self.init_vin = str(uuid4())\n",
    "        \n",
    "        return {\n",
    "            \"make\": self.init_make,\n",
    "            \"model\": self.init_model,\n",
    "            \"year\": self.init_year,\n",
    "            \"vin\": self.init_vin,\n",
    "            \"type\": self.init_type,\n",
    "            \"location\": self.location\n",
    "        }"
   ]
  },
  {
   "cell_type": "code",
   "execution_count": 33,
   "metadata": {},
   "outputs": [],
   "source": [
    "car = Car(\n",
    "    make=\"Toyota\",\n",
    "    model=\"Camry\",\n",
    "    year=2023\n",
    ")"
   ]
  },
  {
   "cell_type": "code",
   "execution_count": 28,
   "metadata": {},
   "outputs": [
    {
     "data": {
      "text/plain": [
       "'new york'"
      ]
     },
     "execution_count": 28,
     "metadata": {},
     "output_type": "execute_result"
    }
   ],
   "source": [
    "car.location"
   ]
  },
  {
   "cell_type": "code",
   "execution_count": 23,
   "metadata": {},
   "outputs": [
    {
     "data": {
      "text/plain": [
       "'a6fe7ce5-0a81-4ca6-8ddd-5996e588f032'"
      ]
     },
     "execution_count": 23,
     "metadata": {},
     "output_type": "execute_result"
    }
   ],
   "source": [
    "car.init_vin"
   ]
  },
  {
   "cell_type": "code",
   "execution_count": 34,
   "metadata": {},
   "outputs": [
    {
     "data": {
      "text/plain": [
       "{'make': 'Toyota',\n",
       " 'model': 'Camry',\n",
       " 'year': 2023,\n",
       " 'vin': '558bfb69-e42f-4319-9f93-1c939b32d0e7',\n",
       " 'type': 'suv',\n",
       " 'location': 'new york'}"
      ]
     },
     "execution_count": 34,
     "metadata": {},
     "output_type": "execute_result"
    }
   ],
   "source": [
    "car.get_car_details()"
   ]
  },
  {
   "cell_type": "code",
   "execution_count": 25,
   "metadata": {},
   "outputs": [
    {
     "data": {
      "text/plain": [
       "'dd899ddc-9e87-473c-8023-ea0f2e176fbb'"
      ]
     },
     "execution_count": 25,
     "metadata": {},
     "output_type": "execute_result"
    }
   ],
   "source": [
    "car.init_vin"
   ]
  },
  {
   "cell_type": "code",
   "execution_count": 19,
   "metadata": {},
   "outputs": [],
   "source": [
    "car = Car(\n",
    "    make=\"Toyota\",\n",
    "    model=\"Camry\",\n",
    "    year=2023,\n",
    "    type=\"sedan\"\n",
    ")"
   ]
  },
  {
   "cell_type": "code",
   "execution_count": 20,
   "metadata": {},
   "outputs": [
    {
     "data": {
      "text/plain": [
       "{'make': 'Toyota',\n",
       " 'model': 'Camry',\n",
       " 'year': 2023,\n",
       " 'vin': '0915092e-c3bd-4100-bfe8-1bcf423d8cf1',\n",
       " 'type': 'sedan'}"
      ]
     },
     "execution_count": 20,
     "metadata": {},
     "output_type": "execute_result"
    }
   ],
   "source": [
    "car.get_car_details()"
   ]
  },
  {
   "cell_type": "code",
   "execution_count": null,
   "metadata": {},
   "outputs": [],
   "source": []
  },
  {
   "cell_type": "code",
   "execution_count": 35,
   "metadata": {},
   "outputs": [],
   "source": [
    "class Vehicle:\n",
    "    def get_type(self):\n",
    "        print(\"It is a vehicle\")"
   ]
  },
  {
   "cell_type": "code",
   "execution_count": 36,
   "metadata": {},
   "outputs": [
    {
     "name": "stdout",
     "output_type": "stream",
     "text": [
      "It is a vehicle\n"
     ]
    }
   ],
   "source": [
    "Vehicle().get_type()"
   ]
  },
  {
   "cell_type": "code",
   "execution_count": 39,
   "metadata": {},
   "outputs": [],
   "source": [
    "class Car:\n",
    "    def get_number_of_tyres(self):\n",
    "        print(\"It has 4 tyres\")\n",
    "\n",
    "    def get_type(self):\n",
    "        print(\"It is a vehicle\")\n",
    "\n",
    "\n",
    "class Bus:\n",
    "    def get_number_of_tyres(self):\n",
    "        print(\"It has 6 tyres\")\n",
    "\n",
    "    def get_type(self):\n",
    "        print(\"It is a vehicle\")\n",
    "\n",
    "\n",
    "class Truck:\n",
    "    def get_number_of_tyres(self):\n",
    "        print(\"It has 8 tyres\")\n",
    "\n",
    "        def get_type(self):\n",
    "            print(\"It is a vehicle\")"
   ]
  },
  {
   "cell_type": "code",
   "execution_count": 50,
   "metadata": {},
   "outputs": [],
   "source": [
    "class Car:\n",
    "    def get_number_of_tyres(self):\n",
    "        print(\"It has 4 tyres\")\n",
    "        # return 4\n",
    "\n",
    "    def get_type(self):\n",
    "        print(\"It is a vehicle\")\n",
    "        # return \"Vehicle\""
   ]
  },
  {
   "cell_type": "code",
   "execution_count": 51,
   "metadata": {},
   "outputs": [
    {
     "name": "stdout",
     "output_type": "stream",
     "text": [
      "It has 4 tyres\n",
      "It is a vehicle\n"
     ]
    }
   ],
   "source": [
    "result1, result2 = Car().get_number_of_tyres(), Car().get_type()"
   ]
  },
  {
   "cell_type": "code",
   "execution_count": 54,
   "metadata": {},
   "outputs": [
    {
     "data": {
      "text/plain": [
       "(None, None, None)"
      ]
     },
     "execution_count": 54,
     "metadata": {},
     "output_type": "execute_result"
    }
   ],
   "source": [
    "result1, result2, None"
   ]
  },
  {
   "cell_type": "code",
   "execution_count": 53,
   "metadata": {},
   "outputs": [],
   "source": [
    "result1"
   ]
  },
  {
   "cell_type": "code",
   "execution_count": 56,
   "metadata": {},
   "outputs": [
    {
     "name": "stdout",
     "output_type": "stream",
     "text": [
      "It is a vehicle\n"
     ]
    }
   ],
   "source": [
    "result = Car().get_type()"
   ]
  },
  {
   "cell_type": "code",
   "execution_count": 57,
   "metadata": {},
   "outputs": [],
   "source": [
    "result"
   ]
  },
  {
   "cell_type": "code",
   "execution_count": 58,
   "metadata": {},
   "outputs": [
    {
     "data": {
      "text/plain": [
       "NoneType"
      ]
     },
     "execution_count": 58,
     "metadata": {},
     "output_type": "execute_result"
    }
   ],
   "source": [
    "result.__class__"
   ]
  },
  {
   "cell_type": "code",
   "execution_count": null,
   "metadata": {},
   "outputs": [],
   "source": [
    "class Vehicle:\n",
    "    def get_type(self):\n",
    "        print(\"It is a vehicle\")"
   ]
  },
  {
   "cell_type": "code",
   "execution_count": null,
   "metadata": {},
   "outputs": [],
   "source": [
    "() -> call -> function calls, calling classes\n",
    "\n",
    "range(4)\n",
    "car = Car()"
   ]
  },
  {
   "cell_type": "code",
   "execution_count": null,
   "metadata": {},
   "outputs": [],
   "source": [
    "class ClassName:\n",
    "    def __init__(self):\n",
    "        pass\n",
    "\n",
    "    expression(s)"
   ]
  },
  {
   "cell_type": "code",
   "execution_count": null,
   "metadata": {},
   "outputs": [],
   "source": [
    "class ClassName(Vehicle):\n",
    "    def __init__(self):\n",
    "        pass\n",
    "\n",
    "    expression(s)"
   ]
  },
  {
   "cell_type": "code",
   "execution_count": 65,
   "metadata": {},
   "outputs": [],
   "source": [
    "### Inheritance"
   ]
  },
  {
   "cell_type": "code",
   "execution_count": null,
   "metadata": {},
   "outputs": [],
   "source": [
    "Vehicle -> Car -> Sedan"
   ]
  },
  {
   "cell_type": "code",
   "execution_count": 77,
   "metadata": {},
   "outputs": [],
   "source": [
    "class Vehicle:\n",
    "    def get_type(self):\n",
    "        print(\"It is a vehicle v2\")\n",
    "\n",
    "    def get_number_of_tyres(self, num_types):\n",
    "        print(f\"It has {num_types} tyres\")\n",
    "\n",
    "\n",
    "class Car(Vehicle):\n",
    "    pass\n",
    "\n",
    "\n",
    "class Sedan(Car):\n",
    "    def print_car_type(self):\n",
    "        print(\"it is a sedan\")"
   ]
  },
  {
   "cell_type": "code",
   "execution_count": 72,
   "metadata": {},
   "outputs": [
    {
     "name": "stdout",
     "output_type": "stream",
     "text": [
      "It is a vehicle v2\n"
     ]
    }
   ],
   "source": [
    "Vehicle().get_type()"
   ]
  },
  {
   "cell_type": "code",
   "execution_count": 78,
   "metadata": {},
   "outputs": [
    {
     "name": "stdout",
     "output_type": "stream",
     "text": [
      "It has 4 tyres\n"
     ]
    }
   ],
   "source": [
    "Car().get_number_of_tyres(4)"
   ]
  },
  {
   "cell_type": "code",
   "execution_count": 74,
   "metadata": {},
   "outputs": [
    {
     "name": "stdout",
     "output_type": "stream",
     "text": [
      "It is a vehicle v2\n"
     ]
    }
   ],
   "source": [
    "Car().get_type()"
   ]
  },
  {
   "cell_type": "code",
   "execution_count": 75,
   "metadata": {},
   "outputs": [
    {
     "name": "stdout",
     "output_type": "stream",
     "text": [
      "It is a vehicle v2\n"
     ]
    }
   ],
   "source": [
    "Sedan().get_type()"
   ]
  },
  {
   "cell_type": "code",
   "execution_count": 76,
   "metadata": {},
   "outputs": [
    {
     "name": "stdout",
     "output_type": "stream",
     "text": [
      "It has 4 tyres\n"
     ]
    }
   ],
   "source": [
    "Sedan().get_number_of_tyres()"
   ]
  },
  {
   "cell_type": "code",
   "execution_count": 59,
   "metadata": {},
   "outputs": [],
   "source": [
    "\n",
    "\n",
    "\n",
    "class Bus:\n",
    "    def get_number_of_tyres(self):\n",
    "        print(\"It has 6 tyres\")\n",
    "\n",
    "\n",
    "class Truck:\n",
    "    def get_number_of_tyres(self):\n",
    "        print(\"It has 8 tyres\")"
   ]
  },
  {
   "cell_type": "code",
   "execution_count": 60,
   "metadata": {},
   "outputs": [
    {
     "ename": "AttributeError",
     "evalue": "'Car' object has no attribute 'get_type'",
     "output_type": "error",
     "traceback": [
      "\u001b[0;31m---------------------------------------------------------------------------\u001b[0m",
      "\u001b[0;31mAttributeError\u001b[0m                            Traceback (most recent call last)",
      "Cell \u001b[0;32mIn[60], line 1\u001b[0m\n\u001b[0;32m----> 1\u001b[0m Car()\u001b[39m.\u001b[39;49mget_type()\n",
      "\u001b[0;31mAttributeError\u001b[0m: 'Car' object has no attribute 'get_type'"
     ]
    }
   ],
   "source": [
    "Car().get_type()"
   ]
  },
  {
   "cell_type": "code",
   "execution_count": null,
   "metadata": {},
   "outputs": [],
   "source": []
  },
  {
   "cell_type": "code",
   "execution_count": 79,
   "metadata": {},
   "outputs": [],
   "source": [
    "## Encapsulation"
   ]
  },
  {
   "cell_type": "code",
   "execution_count": 85,
   "metadata": {},
   "outputs": [],
   "source": [
    "from uuid import uuid4"
   ]
  },
  {
   "cell_type": "code",
   "execution_count": 109,
   "metadata": {},
   "outputs": [],
   "source": [
    "class Employee:\n",
    "    def __init__(self, name, role):\n",
    "        # public variable\n",
    "        self.emp_name = name\n",
    "        self.emp_role = role\n",
    "\n",
    "        # self.emp_code = str(uuid4())\n",
    "\n",
    "        # private variable\n",
    "        self.__emp_code = str(uuid4())\n",
    "\n",
    "    \n",
    "    def get_employee_code(self, otp):\n",
    "        if otp == \"1234\":\n",
    "            return self.__emp_code\n",
    "        else:\n",
    "            print(\"invalid otp\")\n",
    "            return None"
   ]
  },
  {
   "cell_type": "code",
   "execution_count": 111,
   "metadata": {},
   "outputs": [
    {
     "data": {
      "text/plain": [
       "('firoz', 'dba')"
      ]
     },
     "execution_count": 111,
     "metadata": {},
     "output_type": "execute_result"
    }
   ],
   "source": [
    "emp = Employee(\"firoz\", \"dba\")\n",
    "emp.emp_name, emp.emp_role"
   ]
  },
  {
   "cell_type": "code",
   "execution_count": 112,
   "metadata": {},
   "outputs": [
    {
     "ename": "AttributeError",
     "evalue": "'Employee' object has no attribute '__emp_code'",
     "output_type": "error",
     "traceback": [
      "\u001b[0;31m---------------------------------------------------------------------------\u001b[0m",
      "\u001b[0;31mAttributeError\u001b[0m                            Traceback (most recent call last)",
      "Cell \u001b[0;32mIn[112], line 1\u001b[0m\n\u001b[0;32m----> 1\u001b[0m emp\u001b[39m.\u001b[39;49m__emp_code\n",
      "\u001b[0;31mAttributeError\u001b[0m: 'Employee' object has no attribute '__emp_code'"
     ]
    }
   ],
   "source": [
    "emp.__emp_code"
   ]
  },
  {
   "cell_type": "code",
   "execution_count": 115,
   "metadata": {},
   "outputs": [
    {
     "name": "stdout",
     "output_type": "stream",
     "text": [
      "invalid otp\n"
     ]
    }
   ],
   "source": [
    "emp.get_employee_code(\"123\")"
   ]
  },
  {
   "cell_type": "code",
   "execution_count": 116,
   "metadata": {},
   "outputs": [
    {
     "data": {
      "text/plain": [
       "'98805227-bfef-449b-884b-99ba2add38bc'"
      ]
     },
     "execution_count": 116,
     "metadata": {},
     "output_type": "execute_result"
    }
   ],
   "source": [
    "emp.get_employee_code(\"1234\")"
   ]
  },
  {
   "cell_type": "code",
   "execution_count": 117,
   "metadata": {},
   "outputs": [],
   "source": [
    "class Employee:\n",
    "    def __init__(self, name, role):\n",
    "        # public variable\n",
    "        self.emp_name = name\n",
    "        self.emp_role = role\n",
    "\n",
    "        self.emp_code = str(uuid4())\n",
    "\n",
    "        # private variable\n",
    "        # self.__emp_code = str(uuid4())\n",
    "\n",
    "    \n",
    "    def get_employee_code(self, otp):\n",
    "        if otp == \"1234\":\n",
    "            return self.emp_code\n",
    "            # return self.__emp_code\n",
    "        else:\n",
    "            print(\"invalid otp\")\n",
    "            return None"
   ]
  },
  {
   "cell_type": "code",
   "execution_count": 122,
   "metadata": {},
   "outputs": [
    {
     "data": {
      "text/plain": [
       "('firoz', 'dba', '1bddd03f-4e06-45be-946a-f8693bb3c339')"
      ]
     },
     "execution_count": 122,
     "metadata": {},
     "output_type": "execute_result"
    }
   ],
   "source": [
    "emp = Employee(\"firoz\", \"dba\")\n",
    "emp.emp_name, emp.emp_role, emp.emp_code"
   ]
  },
  {
   "cell_type": "code",
   "execution_count": 123,
   "metadata": {},
   "outputs": [
    {
     "data": {
      "text/plain": [
       "'1bddd03f-4e06-45be-946a-f8693bb3c339'"
      ]
     },
     "execution_count": 123,
     "metadata": {},
     "output_type": "execute_result"
    }
   ],
   "source": [
    "emp.get_employee_code(\"1234\")"
   ]
  },
  {
   "cell_type": "code",
   "execution_count": 124,
   "metadata": {},
   "outputs": [],
   "source": [
    "emp.emp_code = \"23324234\""
   ]
  },
  {
   "cell_type": "code",
   "execution_count": 125,
   "metadata": {},
   "outputs": [
    {
     "data": {
      "text/plain": [
       "'23324234'"
      ]
     },
     "execution_count": 125,
     "metadata": {},
     "output_type": "execute_result"
    }
   ],
   "source": [
    "emp.get_employee_code(\"1234\")"
   ]
  },
  {
   "cell_type": "code",
   "execution_count": 146,
   "metadata": {},
   "outputs": [],
   "source": [
    "class Employee:\n",
    "    def __init__(self, name, role):\n",
    "        # public variable\n",
    "        self.emp_name = name\n",
    "        self.emp_role = role\n",
    "\n",
    "        # self.emp_code = str(uuid4())\n",
    "\n",
    "        # private variable -> cannot be accessed outside of class directly\n",
    "        # self.__emp_code = str(uuid4())\n",
    "        self.__emp_code = \"emp-1234-abcd\"\n",
    "        self.emp_rating = 0\n",
    "\n",
    "\n",
    "    def get_employee_code(self, otp):\n",
    "        if otp == \"1234\":\n",
    "            return self.__emp_code\n",
    "        else:\n",
    "            print(\"invalid otp\")\n",
    "            return None\n",
    "    \n",
    "\n",
    "    def modify_employee_code(self, otp, code):\n",
    "        if otp == \"1234\":\n",
    "            self.__emp_code = code \n",
    "            return self.__emp_code\n",
    "        else:\n",
    "            print(\"invalid otp\")\n",
    "            return None"
   ]
  },
  {
   "cell_type": "code",
   "execution_count": 147,
   "metadata": {},
   "outputs": [
    {
     "data": {
      "text/plain": [
       "('firoz', 'dba')"
      ]
     },
     "execution_count": 147,
     "metadata": {},
     "output_type": "execute_result"
    }
   ],
   "source": [
    "emp = Employee(\"firoz\", \"dba\")\n",
    "emp.emp_name, emp.emp_role"
   ]
  },
  {
   "cell_type": "code",
   "execution_count": 148,
   "metadata": {},
   "outputs": [
    {
     "ename": "AttributeError",
     "evalue": "'Employee' object has no attribute '__emp_code'",
     "output_type": "error",
     "traceback": [
      "\u001b[0;31m---------------------------------------------------------------------------\u001b[0m",
      "\u001b[0;31mAttributeError\u001b[0m                            Traceback (most recent call last)",
      "Cell \u001b[0;32mIn[148], line 1\u001b[0m\n\u001b[0;32m----> 1\u001b[0m emp\u001b[39m.\u001b[39;49m__emp_code\n",
      "\u001b[0;31mAttributeError\u001b[0m: 'Employee' object has no attribute '__emp_code'"
     ]
    }
   ],
   "source": [
    "emp.__emp_code"
   ]
  },
  {
   "cell_type": "code",
   "execution_count": 149,
   "metadata": {},
   "outputs": [
    {
     "data": {
      "text/plain": [
       "'emp-1234-abcd'"
      ]
     },
     "execution_count": 149,
     "metadata": {},
     "output_type": "execute_result"
    }
   ],
   "source": [
    "emp.get_employee_code(\"1234\")"
   ]
  },
  {
   "cell_type": "code",
   "execution_count": 150,
   "metadata": {},
   "outputs": [],
   "source": [
    "emp.__emp_code = \"sdf\""
   ]
  },
  {
   "cell_type": "code",
   "execution_count": 151,
   "metadata": {},
   "outputs": [
    {
     "data": {
      "text/plain": [
       "'sdf'"
      ]
     },
     "execution_count": 151,
     "metadata": {},
     "output_type": "execute_result"
    }
   ],
   "source": [
    "emp.__emp_code"
   ]
  },
  {
   "cell_type": "code",
   "execution_count": 152,
   "metadata": {},
   "outputs": [
    {
     "data": {
      "text/plain": [
       "'emp-1234-abcd'"
      ]
     },
     "execution_count": 152,
     "metadata": {},
     "output_type": "execute_result"
    }
   ],
   "source": [
    "emp.get_employee_code(\"1234\")"
   ]
  },
  {
   "cell_type": "code",
   "execution_count": 153,
   "metadata": {},
   "outputs": [
    {
     "data": {
      "text/plain": [
       "'emp-1234-xyz'"
      ]
     },
     "execution_count": 153,
     "metadata": {},
     "output_type": "execute_result"
    }
   ],
   "source": [
    "emp.modify_employee_code(\"1234\", 'emp-1234-xyz')"
   ]
  },
  {
   "cell_type": "code",
   "execution_count": 154,
   "metadata": {},
   "outputs": [
    {
     "data": {
      "text/plain": [
       "'emp-1234-xyz'"
      ]
     },
     "execution_count": 154,
     "metadata": {},
     "output_type": "execute_result"
    }
   ],
   "source": [
    "emp.get_employee_code(\"1234\")"
   ]
  },
  {
   "cell_type": "code",
   "execution_count": 160,
   "metadata": {},
   "outputs": [],
   "source": [
    "class Vehicle:\n",
    "    def __init__(self, name):\n",
    "        self.name = name\n",
    "        self.__vin = str(uuid4())\n",
    "        self.public_vin = str(uuid4())\n",
    "\n",
    "\n",
    "    def get_vehicle_details(self):\n",
    "        return {\n",
    "            \"name\": self.name,\n",
    "            \"vin\": self.__vin,\n",
    "            \"public_vin\": self.public_vin,\n",
    "        }"
   ]
  },
  {
   "cell_type": "code",
   "execution_count": 156,
   "metadata": {},
   "outputs": [],
   "source": [
    "vehicle = Vehicle(\"Toyota\")"
   ]
  },
  {
   "cell_type": "code",
   "execution_count": 157,
   "metadata": {},
   "outputs": [
    {
     "data": {
      "text/plain": [
       "('Toyota', '4742582a-bfdc-48a3-a460-4b54cb34e829')"
      ]
     },
     "execution_count": 157,
     "metadata": {},
     "output_type": "execute_result"
    }
   ],
   "source": [
    "vehicle.name, vehicle.public_vin"
   ]
  },
  {
   "cell_type": "code",
   "execution_count": 158,
   "metadata": {},
   "outputs": [
    {
     "ename": "AttributeError",
     "evalue": "'Vehicle' object has no attribute '__vin'",
     "output_type": "error",
     "traceback": [
      "\u001b[0;31m---------------------------------------------------------------------------\u001b[0m",
      "\u001b[0;31mAttributeError\u001b[0m                            Traceback (most recent call last)",
      "Cell \u001b[0;32mIn[158], line 1\u001b[0m\n\u001b[0;32m----> 1\u001b[0m vehicle\u001b[39m.\u001b[39;49m__vin\n",
      "\u001b[0;31mAttributeError\u001b[0m: 'Vehicle' object has no attribute '__vin'"
     ]
    }
   ],
   "source": [
    "vehicle.__vin"
   ]
  },
  {
   "cell_type": "code",
   "execution_count": 159,
   "metadata": {},
   "outputs": [
    {
     "data": {
      "text/plain": [
       "{'name': 'Toyota',\n",
       " 'vin': 'f588ffc4-eff7-4465-a26a-1a2add06077e',\n",
       " 'public_vin': '4742582a-bfdc-48a3-a460-4b54cb34e829'}"
      ]
     },
     "execution_count": 159,
     "metadata": {},
     "output_type": "execute_result"
    }
   ],
   "source": [
    "vehicle.get_vehicle_details()"
   ]
  },
  {
   "cell_type": "code",
   "execution_count": 172,
   "metadata": {},
   "outputs": [],
   "source": [
    "class Car(Vehicle):\n",
    "    def get_car(self):\n",
    "        print(\"It's a car\")\n",
    "\n",
    "    def modify_car_vin(self):\n",
    "        self.__vin = \"new vin\""
   ]
  },
  {
   "cell_type": "code",
   "execution_count": 173,
   "metadata": {},
   "outputs": [],
   "source": [
    "car = Car(\"Toyota\")"
   ]
  },
  {
   "cell_type": "code",
   "execution_count": 174,
   "metadata": {},
   "outputs": [
    {
     "name": "stdout",
     "output_type": "stream",
     "text": [
      "It's a car\n"
     ]
    }
   ],
   "source": [
    "car.get_car()"
   ]
  },
  {
   "cell_type": "code",
   "execution_count": 175,
   "metadata": {},
   "outputs": [
    {
     "data": {
      "text/plain": [
       "('Toyota', 'f75bb10f-1a0f-4c0c-af81-cee9d7ec4c3d')"
      ]
     },
     "execution_count": 175,
     "metadata": {},
     "output_type": "execute_result"
    }
   ],
   "source": [
    "car.name, car.public_vin"
   ]
  },
  {
   "cell_type": "code",
   "execution_count": 176,
   "metadata": {},
   "outputs": [
    {
     "ename": "AttributeError",
     "evalue": "'Car' object has no attribute '__vin'",
     "output_type": "error",
     "traceback": [
      "\u001b[0;31m---------------------------------------------------------------------------\u001b[0m",
      "\u001b[0;31mAttributeError\u001b[0m                            Traceback (most recent call last)",
      "Cell \u001b[0;32mIn[176], line 1\u001b[0m\n\u001b[0;32m----> 1\u001b[0m car\u001b[39m.\u001b[39;49m__vin\n",
      "\u001b[0;31mAttributeError\u001b[0m: 'Car' object has no attribute '__vin'"
     ]
    }
   ],
   "source": [
    "car.__vin"
   ]
  },
  {
   "cell_type": "code",
   "execution_count": 177,
   "metadata": {},
   "outputs": [
    {
     "data": {
      "text/plain": [
       "{'name': 'Toyota',\n",
       " 'vin': 'ae272a7f-0f30-4eb5-827d-f817cc1c9512',\n",
       " 'public_vin': 'f75bb10f-1a0f-4c0c-af81-cee9d7ec4c3d'}"
      ]
     },
     "execution_count": 177,
     "metadata": {},
     "output_type": "execute_result"
    }
   ],
   "source": [
    "car.get_vehicle_details()"
   ]
  },
  {
   "cell_type": "code",
   "execution_count": 178,
   "metadata": {},
   "outputs": [],
   "source": [
    "car.modify_car_vin()"
   ]
  },
  {
   "cell_type": "code",
   "execution_count": 179,
   "metadata": {},
   "outputs": [
    {
     "data": {
      "text/plain": [
       "{'name': 'Toyota',\n",
       " 'vin': 'ae272a7f-0f30-4eb5-827d-f817cc1c9512',\n",
       " 'public_vin': 'f75bb10f-1a0f-4c0c-af81-cee9d7ec4c3d'}"
      ]
     },
     "execution_count": 179,
     "metadata": {},
     "output_type": "execute_result"
    }
   ],
   "source": [
    "car.get_vehicle_details()"
   ]
  },
  {
   "cell_type": "code",
   "execution_count": null,
   "metadata": {},
   "outputs": [],
   "source": [
    "inheritance\n",
    "encapsulation "
   ]
  },
  {
   "cell_type": "code",
   "execution_count": null,
   "metadata": {},
   "outputs": [],
   "source": [
    "class Employee:\n",
    "    def __init__(self, name, role):\n",
    "        pass\n",
    "\n",
    "    def get_employee_code(self, otp):\n",
    "        pass\n",
    "\n",
    "    def modify_employee_code(self, otp, code):\n",
    "        pass"
   ]
  },
  {
   "cell_type": "code",
   "execution_count": null,
   "metadata": {},
   "outputs": [],
   "source": []
  },
  {
   "cell_type": "code",
   "execution_count": null,
   "metadata": {},
   "outputs": [],
   "source": [
    "emp = Employee()\n",
    "button click -> emp.get_employee_code(otp)\n",
    "\n",
    "\n",
    "emp.__vin\n",
    "name -> emp.name\n",
    "\n",
    "emp.emp_code"
   ]
  }
 ],
 "metadata": {
  "kernelspec": {
   "display_name": "Python 3",
   "language": "python",
   "name": "python3"
  },
  "language_info": {
   "codemirror_mode": {
    "name": "ipython",
    "version": 3
   },
   "file_extension": ".py",
   "mimetype": "text/x-python",
   "name": "python",
   "nbconvert_exporter": "python",
   "pygments_lexer": "ipython3",
   "version": "3.9.16"
  },
  "orig_nbformat": 4
 },
 "nbformat": 4,
 "nbformat_minor": 2
}
