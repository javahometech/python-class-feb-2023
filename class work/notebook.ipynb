{
 "cells": [
  {
   "cell_type": "code",
   "execution_count": null,
   "metadata": {},
   "outputs": [],
   "source": [
    "class Person: \n",
    "    # def __init__(self, name, age): \n",
    "    #     self.name = name \n",
    "    #     self.age = age \n",
    "\n",
    "    name = \"sdf\"\n",
    "\n",
    "    def myfunc(self): \n",
    "        print(\"Hello my name is \" + self.name) \n",
    "\n",
    "p1 = Person(\"John\", 36) \n",
    "p1.myfunc()"
   ]
  },
  {
   "cell_type": "code",
   "execution_count": 2,
   "metadata": {},
   "outputs": [],
   "source": [
    "class Employee:\n",
    "    company = \"Java Home Cloud\"\n",
    "\n",
    "    def add_employee(self, name=\"Santhosh\"):\n",
    "        self.employee_name = name\n",
    "        return f\"added employee {name}\"\n",
    "    \n",
    "    def get_employee_details(self):\n",
    "        return self.employee_name\n",
    "    \n",
    "    def update_employee_annotation(self):\n",
    "        self.employee_name = f\"Mr {self.employee_name.title()}\""
   ]
  },
  {
   "cell_type": "code",
   "execution_count": 5,
   "metadata": {},
   "outputs": [
    {
     "data": {
      "text/plain": [
       "'added employee Santhosh'"
      ]
     },
     "execution_count": 5,
     "metadata": {},
     "output_type": "execute_result"
    }
   ],
   "source": [
    "emp = Employee()\n",
    "emp.add_employee()"
   ]
  },
  {
   "cell_type": "code",
   "execution_count": 6,
   "metadata": {},
   "outputs": [
    {
     "data": {
      "text/plain": [
       "'Santhosh'"
      ]
     },
     "execution_count": 6,
     "metadata": {},
     "output_type": "execute_result"
    }
   ],
   "source": [
    "emp.get_employee_details()"
   ]
  },
  {
   "cell_type": "code",
   "execution_count": 7,
   "metadata": {},
   "outputs": [],
   "source": [
    "def add_employee(name=\"Santhosh\"):\n",
    "    employee_name = name\n",
    "    return employee_name\n",
    "\n",
    "def get_employee_details(employee_name):\n",
    "    return employee_name\n",
    "\n",
    "def update_employee_annotation(employee_name):\n",
    "    employee_name = f\"Mr {employee_name.title()}\""
   ]
  },
  {
   "cell_type": "code",
   "execution_count": 9,
   "metadata": {},
   "outputs": [],
   "source": [
    "employee = add_employee()"
   ]
  },
  {
   "cell_type": "code",
   "execution_count": 10,
   "metadata": {},
   "outputs": [
    {
     "data": {
      "text/plain": [
       "'Santhosh'"
      ]
     },
     "execution_count": 10,
     "metadata": {},
     "output_type": "execute_result"
    }
   ],
   "source": [
    "get_employee_details(employee)"
   ]
  },
  {
   "cell_type": "code",
   "execution_count": 49,
   "metadata": {},
   "outputs": [],
   "source": [
    "def add_employee(self, name=\"Santhosh\"):\n",
    "    self.employee_name = name\n",
    "    return f\"added employee {name}\""
   ]
  },
  {
   "cell_type": "code",
   "execution_count": 50,
   "metadata": {},
   "outputs": [],
   "source": [
    "name = \"sdf\""
   ]
  },
  {
   "cell_type": "code",
   "execution_count": 52,
   "metadata": {},
   "outputs": [
    {
     "data": {
      "text/plain": [
       "'sdf'"
      ]
     },
     "execution_count": 52,
     "metadata": {},
     "output_type": "execute_result"
    }
   ],
   "source": [
    "name"
   ]
  },
  {
   "cell_type": "code",
   "execution_count": null,
   "metadata": {},
   "outputs": [],
   "source": [
    "class Employee:\n",
    "    def add_employee(self, name=\"Santhosh\"):\n",
    "        self.employee_name = name\n",
    "        return f\"added employee {name}\"\n",
    "    \n",
    "    company = \"Java Home Cloud\"\n",
    "\n",
    "    def get_employee_details(self):\n",
    "        # return self.employee_name\n",
    "        return self.company\n",
    "    \n",
    "    def update_employee_annotation(self):\n",
    "        self.employee_name = f\"Mr {self.employee_name.title()}\""
   ]
  },
  {
   "cell_type": "code",
   "execution_count": 11,
   "metadata": {},
   "outputs": [],
   "source": [
    "class Person:\n",
    "    name = \"Santhosh\"\n",
    "\n",
    "    def greet(self):\n",
    "        print(f\"Hey {self.name}!\")"
   ]
  },
  {
   "cell_type": "code",
   "execution_count": 12,
   "metadata": {},
   "outputs": [
    {
     "name": "stdout",
     "output_type": "stream",
     "text": [
      "Hey Santhosh!\n"
     ]
    }
   ],
   "source": [
    "Person().greet()"
   ]
  },
  {
   "cell_type": "code",
   "execution_count": 39,
   "metadata": {},
   "outputs": [],
   "source": [
    "from datetime import datetime"
   ]
  },
  {
   "cell_type": "code",
   "execution_count": 40,
   "metadata": {},
   "outputs": [
    {
     "data": {
      "text/plain": [
       "'2023-03-10T08:26:17.443200'"
      ]
     },
     "execution_count": 40,
     "metadata": {},
     "output_type": "execute_result"
    }
   ],
   "source": []
  },
  {
   "cell_type": "code",
   "execution_count": 53,
   "metadata": {},
   "outputs": [],
   "source": [
    "class Person:\n",
    "    def greet(self, greeting):\n",
    "        current_time = datetime.now().isoformat()\n",
    "        print(f\"{greeting} {self.title_cased_name}!\")\n",
    "        print(self.class_initilization_time, current_time)\n",
    "\n",
    "    # constructor, first function when a class is instanstiated \n",
    "    def __init__(self, name):\n",
    "        self.name = name\n",
    "        self.title_cased_name = name.title()\n",
    "\n",
    "        current_time = datetime.now().isoformat()\n",
    "        self.class_initilization_time = current_time"
   ]
  },
  {
   "cell_type": "code",
   "execution_count": 54,
   "metadata": {},
   "outputs": [],
   "source": [
    "person = Person(\"kartHIk\")"
   ]
  },
  {
   "cell_type": "code",
   "execution_count": 55,
   "metadata": {},
   "outputs": [
    {
     "data": {
      "text/plain": [
       "'kartHIk'"
      ]
     },
     "execution_count": 55,
     "metadata": {},
     "output_type": "execute_result"
    }
   ],
   "source": [
    "person.name"
   ]
  },
  {
   "cell_type": "code",
   "execution_count": 44,
   "metadata": {},
   "outputs": [
    {
     "data": {
      "text/plain": [
       "'2023-03-10T08:26:36.700444'"
      ]
     },
     "execution_count": 44,
     "metadata": {},
     "output_type": "execute_result"
    }
   ],
   "source": [
    "person.class_initilization_time"
   ]
  },
  {
   "cell_type": "code",
   "execution_count": 37,
   "metadata": {},
   "outputs": [
    {
     "data": {
      "text/plain": [
       "'Karthik'"
      ]
     },
     "execution_count": 37,
     "metadata": {},
     "output_type": "execute_result"
    }
   ],
   "source": [
    "person.title_cased_name"
   ]
  },
  {
   "cell_type": "code",
   "execution_count": 48,
   "metadata": {},
   "outputs": [
    {
     "name": "stdout",
     "output_type": "stream",
     "text": [
      "Welcome Karthik!\n",
      "2023-03-10T08:27:50.628307 2023-03-10T08:27:54.445549\n"
     ]
    }
   ],
   "source": [
    "person.greet(\"Welcome\")"
   ]
  },
  {
   "cell_type": "code",
   "execution_count": 63,
   "metadata": {},
   "outputs": [],
   "source": [
    "from uuid import uuid4"
   ]
  },
  {
   "cell_type": "code",
   "execution_count": 65,
   "metadata": {},
   "outputs": [
    {
     "data": {
      "text/plain": [
       "'27edb196-a8fa-45a8-8ffc-d4b5af172277'"
      ]
     },
     "execution_count": 65,
     "metadata": {},
     "output_type": "execute_result"
    }
   ],
   "source": [
    "str(uuid4())"
   ]
  },
  {
   "cell_type": "code",
   "execution_count": 76,
   "metadata": {},
   "outputs": [
    {
     "data": {
      "text/plain": [
       "<function uuid.uuid4()>"
      ]
     },
     "execution_count": 76,
     "metadata": {},
     "output_type": "execute_result"
    }
   ],
   "source": [
    "uuid4"
   ]
  },
  {
   "cell_type": "code",
   "execution_count": 77,
   "metadata": {},
   "outputs": [
    {
     "ename": "NameError",
     "evalue": "name 'random_id_generator' is not defined",
     "output_type": "error",
     "traceback": [
      "\u001b[0;31m---------------------------------------------------------------------------\u001b[0m",
      "\u001b[0;31mNameError\u001b[0m                                 Traceback (most recent call last)",
      "Cell \u001b[0;32mIn[77], line 1\u001b[0m\n\u001b[0;32m----> 1\u001b[0m random_id_generator\n",
      "\u001b[0;31mNameError\u001b[0m: name 'random_id_generator' is not defined"
     ]
    }
   ],
   "source": [
    "random_id_generator"
   ]
  },
  {
   "cell_type": "code",
   "execution_count": 78,
   "metadata": {},
   "outputs": [],
   "source": [
    "class Car:\n",
    "    # from uuid import uuid4\n",
    "\n",
    "    def __init__(self, make, model, year):\n",
    "        self.name = name\n",
    "        self.make = make\n",
    "        self.model = model\n",
    "        self.year = year\n",
    "        \n",
    "        from uuid import uuid4 as random_id_generator\n",
    "        self.vin = str(random_id_generator())\n",
    "\n",
    "        # self.vin = str(uuid4())\n",
    "\n",
    "\n",
    "    def get_car_details(self):\n",
    "        return {\n",
    "            \"name\": self.name,\n",
    "            \"make\": self.make,\n",
    "            \"model\": self.model,\n",
    "            \"year\": self.year,\n",
    "            \"vin\": self.vin,\n",
    "        }"
   ]
  },
  {
   "cell_type": "code",
   "execution_count": 68,
   "metadata": {},
   "outputs": [],
   "source": [
    "my_car = Car(\n",
    "    make=\"Toyota\",\n",
    "    model=\"Camry\",\n",
    "    year=2023\n",
    ")"
   ]
  },
  {
   "cell_type": "code",
   "execution_count": 69,
   "metadata": {},
   "outputs": [
    {
     "data": {
      "text/plain": [
       "{'name': 'sdf',\n",
       " 'make': 'Toyota',\n",
       " 'model': 'Camry',\n",
       " 'year': 2023,\n",
       " 'vin': '7a4db056-b90c-4370-a7e7-cb39280f44f6'}"
      ]
     },
     "execution_count": 69,
     "metadata": {},
     "output_type": "execute_result"
    }
   ],
   "source": [
    "my_car.get_car_details()"
   ]
  },
  {
   "cell_type": "code",
   "execution_count": 79,
   "metadata": {},
   "outputs": [],
   "source": [
    "firozs_car = Car(\n",
    "    make=\"Toyota\",\n",
    "    model=\"Supra\",\n",
    "    year=2023\n",
    ")\n",
    "\n",
    "santhosh_car = Car(\n",
    "    make=\"Tata\",\n",
    "    model=\"Nano\",\n",
    "    year=2023\n",
    ")"
   ]
  },
  {
   "cell_type": "code",
   "execution_count": 80,
   "metadata": {},
   "outputs": [
    {
     "data": {
      "text/plain": [
       "{'name': 'sdf',\n",
       " 'make': 'Toyota',\n",
       " 'model': 'Supra',\n",
       " 'year': 2023,\n",
       " 'vin': 'e4ab33b7-6e34-4164-82aa-45acad971b92'}"
      ]
     },
     "execution_count": 80,
     "metadata": {},
     "output_type": "execute_result"
    }
   ],
   "source": [
    "firozs_car.get_car_details()"
   ]
  },
  {
   "cell_type": "code",
   "execution_count": 81,
   "metadata": {},
   "outputs": [
    {
     "data": {
      "text/plain": [
       "{'name': 'sdf',\n",
       " 'make': 'Tata',\n",
       " 'model': 'Nano',\n",
       " 'year': 2023,\n",
       " 'vin': '4f058d37-0947-4faa-8427-656b497c9d4d'}"
      ]
     },
     "execution_count": 81,
     "metadata": {},
     "output_type": "execute_result"
    }
   ],
   "source": [
    "santhosh_car.get_car_details()"
   ]
  },
  {
   "cell_type": "code",
   "execution_count": 83,
   "metadata": {},
   "outputs": [],
   "source": [
    "from time import time"
   ]
  },
  {
   "cell_type": "code",
   "execution_count": null,
   "metadata": {},
   "outputs": [],
   "source": [
    "time()"
   ]
  },
  {
   "cell_type": "code",
   "execution_count": 84,
   "metadata": {},
   "outputs": [],
   "source": [
    "start = time()"
   ]
  },
  {
   "cell_type": "code",
   "execution_count": 85,
   "metadata": {},
   "outputs": [
    {
     "data": {
      "text/plain": [
       "1678418388.1217587"
      ]
     },
     "execution_count": 85,
     "metadata": {},
     "output_type": "execute_result"
    }
   ],
   "source": [
    "start"
   ]
  },
  {
   "cell_type": "code",
   "execution_count": 86,
   "metadata": {},
   "outputs": [],
   "source": [
    "end = time()"
   ]
  },
  {
   "cell_type": "code",
   "execution_count": 87,
   "metadata": {},
   "outputs": [
    {
     "data": {
      "text/plain": [
       "1678418404.3287983"
      ]
     },
     "execution_count": 87,
     "metadata": {},
     "output_type": "execute_result"
    }
   ],
   "source": [
    "end"
   ]
  },
  {
   "cell_type": "code",
   "execution_count": 89,
   "metadata": {},
   "outputs": [
    {
     "data": {
      "text/plain": [
       "16.21"
      ]
     },
     "execution_count": 89,
     "metadata": {},
     "output_type": "execute_result"
    }
   ],
   "source": [
    "round(end - start, 2)"
   ]
  },
  {
   "cell_type": "code",
   "execution_count": 91,
   "metadata": {},
   "outputs": [
    {
     "name": "stdout",
     "output_type": "stream",
     "text": [
      "0.0\n",
      "0.0\n",
      "0.0\n",
      "0.0\n",
      "0.0\n",
      "0.0\n",
      "0.0\n",
      "0.0\n",
      "0.0\n",
      "0.0\n"
     ]
    }
   ],
   "source": [
    "for _ in range(10):\n",
    "    start = time()\n",
    "    from uuid import uuid4 as random_id_generator\n",
    "    end = time()\n",
    "\n",
    "    time_taken = round(end - start, 2)\n",
    "    print(time_taken)\n",
    "\n",
    "    del random_id_generator"
   ]
  },
  {
   "cell_type": "code",
   "execution_count": 93,
   "metadata": {},
   "outputs": [
    {
     "name": "stdout",
     "output_type": "stream",
     "text": [
      "0.41\n",
      "0.0\n",
      "0.0\n",
      "0.0\n",
      "0.0\n",
      "0.0\n",
      "0.0\n",
      "0.0\n",
      "0.0\n",
      "0.0\n"
     ]
    }
   ],
   "source": [
    "# 1\n",
    "import pandas\n",
    "import requests\n",
    "import sqlite3\n",
    "\n",
    "\n",
    "class DataCleaner:\n",
    "    pass\n",
    "\n",
    "\n",
    "class DataProcessor:\n",
    "    # 2\n",
    "    import pandas # 0.5\n",
    "    import requests # 0.01\n",
    "    import sqlite3 # 0.01s\n",
    "\n",
    "    def get_data_from_db(self, query):\n",
    "        # 3\n",
    "        import sqlite3 \n",
    "        # run the query\n",
    "        data = self.sqlite3.run_query(query)\n",
    "        self.data = data\n",
    "\n",
    "\n",
    "    def download_data(self, url):\n",
    "        import requests\n",
    "        # download data from url using requests and return it\n",
    "        data = self.requests.get(url)\n",
    "        self.data = data \n",
    "\n",
    "\n",
    "    def load_data(self, file):\n",
    "        import pandas\n",
    "        # load the file (csv) using pandas and return it\n",
    "        data = self.pandas.load(file)\n",
    "        self.data = data \n",
    "\n",
    "\n",
    "    def process_data(self, data):\n",
    "        # the data in the memory gets processed here and return it\n",
    "        self.processed_data = self.data"
   ]
  },
  {
   "cell_type": "code",
   "execution_count": null,
   "metadata": {},
   "outputs": [],
   "source": []
  }
 ],
 "metadata": {
  "kernelspec": {
   "display_name": "Python 3",
   "language": "python",
   "name": "python3"
  },
  "language_info": {
   "codemirror_mode": {
    "name": "ipython",
    "version": 3
   },
   "file_extension": ".py",
   "mimetype": "text/x-python",
   "name": "python",
   "nbconvert_exporter": "python",
   "pygments_lexer": "ipython3",
   "version": "3.9.16"
  },
  "orig_nbformat": 4
 },
 "nbformat": 4,
 "nbformat_minor": 2
}
