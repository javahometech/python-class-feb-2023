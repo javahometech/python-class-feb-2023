{
 "cells": [
  {
   "attachments": {},
   "cell_type": "markdown",
   "metadata": {},
   "source": [
    "Shared (with all) live copy"
   ]
  },
  {
   "cell_type": "code",
   "execution_count": 8,
   "metadata": {},
   "outputs": [],
   "source": [
    "class Employee:\n",
    "    company = \"Java Home Cloud\"\n",
    "\n",
    "    def add_employee(self, name=\"Santhosh\"):\n",
    "        self.employee_name = name\n",
    "        # print_statement = f\"added employee {name} at {company}\"\n",
    "        print_statement = f\"added employee {name} at {self.company}\"\n",
    "        return print_statement\n",
    "    \n",
    "    def get_employee_details(self):\n",
    "        return self.employee_name\n",
    "    \n",
    "    def update_employee_annotation(self):\n",
    "        self.employee_name = f\"Mr {self.employee_name.title()}\""
   ]
  },
  {
   "cell_type": "code",
   "execution_count": 9,
   "metadata": {},
   "outputs": [],
   "source": [
    "emp = Employee()"
   ]
  },
  {
   "cell_type": "code",
   "execution_count": 3,
   "metadata": {},
   "outputs": [
    {
     "data": {
      "text/plain": [
       "'Java Home Cloud'"
      ]
     },
     "execution_count": 3,
     "metadata": {},
     "output_type": "execute_result"
    }
   ],
   "source": [
    "emp.company"
   ]
  },
  {
   "cell_type": "code",
   "execution_count": 10,
   "metadata": {},
   "outputs": [
    {
     "data": {
      "text/plain": [
       "'added employee Santhosh at Java Home Cloud'"
      ]
     },
     "execution_count": 10,
     "metadata": {},
     "output_type": "execute_result"
    }
   ],
   "source": [
    "emp.add_employee()"
   ]
  },
  {
   "cell_type": "code",
   "execution_count": 12,
   "metadata": {},
   "outputs": [],
   "source": [
    "class FaqBot:\n",
    "    knowledge_bank = {\n",
    "        \"Who is the PM of India?\": \"Narendra Modi\",\n",
    "        \"When did India get its independence?\": \"1947\",\n",
    "        \"What is the currency of India?\": \"Rupee\",\n",
    "        \"What is the currency of US?\": \"Dollar\"\n",
    "    }\n",
    "\n",
    "    def bot_reply(self, question):\n",
    "        knowledge_bank_updated = {}\n",
    "\n",
    "        for _question, _answer in self.knowledge_bank.items():\n",
    "            knowledge_bank_updated[_question.lower()] = _answer\n",
    "\n",
    "        question_updated = question.lower()\n",
    "\n",
    "        if question_updated in knowledge_bank_updated:\n",
    "            answer = knowledge_bank_updated[question_updated]\n",
    "            user_reply = f\"The answer is : {answer}\"\n",
    "        else:\n",
    "            user_reply = \"knowledge bank does not have this answer at this moment\"\n",
    "\n",
    "        return user_reply\n"
   ]
  },
  {
   "cell_type": "code",
   "execution_count": 13,
   "metadata": {},
   "outputs": [],
   "source": [
    "bot = FaqBot()"
   ]
  },
  {
   "cell_type": "code",
   "execution_count": 14,
   "metadata": {},
   "outputs": [
    {
     "data": {
      "text/plain": [
       "{'Who is the PM of India?': 'Narendra Modi',\n",
       " 'When did India get its independence?': '1947',\n",
       " 'What is the currency of India?': 'Rupee',\n",
       " 'What is the currency of US?': 'Dollar'}"
      ]
     },
     "execution_count": 14,
     "metadata": {},
     "output_type": "execute_result"
    }
   ],
   "source": [
    "bot.knowledge_bank"
   ]
  },
  {
   "cell_type": "code",
   "execution_count": 15,
   "metadata": {},
   "outputs": [
    {
     "data": {
      "text/plain": [
       "'The answer is : Narendra Modi'"
      ]
     },
     "execution_count": 15,
     "metadata": {},
     "output_type": "execute_result"
    }
   ],
   "source": [
    "bot.bot_reply('Who is the PM of India?')"
   ]
  },
  {
   "cell_type": "code",
   "execution_count": 17,
   "metadata": {},
   "outputs": [
    {
     "ename": "NameError",
     "evalue": "name 'bot_reply' is not defined",
     "output_type": "error",
     "traceback": [
      "\u001b[0;31m---------------------------------------------------------------------------\u001b[0m",
      "\u001b[0;31mNameError\u001b[0m                                 Traceback (most recent call last)",
      "Cell \u001b[0;32mIn[17], line 1\u001b[0m\n\u001b[0;32m----> 1\u001b[0m bot_reply(\u001b[39m'\u001b[39m\u001b[39mWho is the PM of India?\u001b[39m\u001b[39m'\u001b[39m)\n",
      "\u001b[0;31mNameError\u001b[0m: name 'bot_reply' is not defined"
     ]
    }
   ],
   "source": [
    "bot_reply('Who is the PM of India?')"
   ]
  },
  {
   "cell_type": "code",
   "execution_count": null,
   "metadata": {},
   "outputs": [],
   "source": []
  },
  {
   "cell_type": "code",
   "execution_count": 20,
   "metadata": {},
   "outputs": [],
   "source": [
    "import json"
   ]
  },
  {
   "cell_type": "code",
   "execution_count": 26,
   "metadata": {},
   "outputs": [],
   "source": [
    "with open(\"knowledge_bank.json\", \"r\") as fh:\n",
    "    knowledge_bank = fh.read()\n",
    "    knowledge_bank = json.loads(knowledge_bank)\n",
    "\n",
    "    # knowledge_bank = json.loads(fh.read())"
   ]
  },
  {
   "cell_type": "code",
   "execution_count": 27,
   "metadata": {},
   "outputs": [
    {
     "data": {
      "text/plain": [
       "{'Who is the PM of India?': 'Narendra Modi',\n",
       " 'When did India get its independence?': '1947',\n",
       " 'What is the currency of India?': 'Rupee',\n",
       " 'What is the currency of US?': 'Dollar'}"
      ]
     },
     "execution_count": 27,
     "metadata": {},
     "output_type": "execute_result"
    }
   ],
   "source": [
    "knowledge_bank"
   ]
  },
  {
   "cell_type": "code",
   "execution_count": 41,
   "metadata": {},
   "outputs": [],
   "source": [
    "import datetime"
   ]
  },
  {
   "cell_type": "code",
   "execution_count": 45,
   "metadata": {},
   "outputs": [
    {
     "data": {
      "text/plain": [
       "'2023-03-09T08:15:38.146544'"
      ]
     },
     "execution_count": 45,
     "metadata": {},
     "output_type": "execute_result"
    }
   ],
   "source": [
    "current_time = datetime.datetime.now().isoformat()\n",
    "current_time"
   ]
  },
  {
   "cell_type": "code",
   "execution_count": 59,
   "metadata": {},
   "outputs": [],
   "source": [
    "class FaqBot:\n",
    "    last_update = \"Knowledge bank not loaded yet\"\n",
    "    last_bot_interaction = \"Bot not used yet\"\n",
    "\n",
    "    def set_knowlege_bank(self, knowledge_bank_path):\n",
    "        with open(knowledge_bank_path, \"r\") as fh:\n",
    "            knowledge_bank = fh.read()\n",
    "            knowledge_bank = json.loads(knowledge_bank)\n",
    "\n",
    "            # kb = knowledge_bank\n",
    "            self.kb = knowledge_bank\n",
    "\n",
    "            current_time = datetime.datetime.now().isoformat()\n",
    "            self.last_update = current_time\n",
    "\n",
    "\n",
    "    def bot_reply(self, question):\n",
    "        knowledge_bank_updated = {}\n",
    "\n",
    "        for _question, _answer in self.kb.items():\n",
    "            knowledge_bank_updated[_question.lower()] = _answer\n",
    "\n",
    "        question_updated = question.lower()\n",
    "\n",
    "        if question_updated in knowledge_bank_updated:\n",
    "            answer = knowledge_bank_updated[question_updated]\n",
    "            user_reply = f\"The answer is : {answer}\"\n",
    "        else:\n",
    "            user_reply = \"knowledge bank does not have this answer at this moment\"\n",
    "\n",
    "        current_time = datetime.datetime.now().isoformat()\n",
    "        self.last_bot_interaction = current_time\n",
    "        self.last_update = current_time\n",
    "\n",
    "        return user_reply"
   ]
  },
  {
   "cell_type": "code",
   "execution_count": 60,
   "metadata": {},
   "outputs": [],
   "source": [
    "bot = FaqBot()"
   ]
  },
  {
   "cell_type": "code",
   "execution_count": 61,
   "metadata": {},
   "outputs": [
    {
     "data": {
      "text/plain": [
       "('Knowledge bank not loaded yet', 'Bot not used yet')"
      ]
     },
     "execution_count": 61,
     "metadata": {},
     "output_type": "execute_result"
    }
   ],
   "source": [
    "bot.last_update, bot.last_bot_interaction"
   ]
  },
  {
   "cell_type": "code",
   "execution_count": 62,
   "metadata": {},
   "outputs": [],
   "source": [
    "bot.set_knowlege_bank(\"./knowledge_bank.json\")"
   ]
  },
  {
   "cell_type": "code",
   "execution_count": 63,
   "metadata": {},
   "outputs": [
    {
     "data": {
      "text/plain": [
       "('2023-03-09T08:21:12.516196', 'Bot not used yet')"
      ]
     },
     "execution_count": 63,
     "metadata": {},
     "output_type": "execute_result"
    }
   ],
   "source": [
    "bot.last_update, bot.last_bot_interaction"
   ]
  },
  {
   "cell_type": "code",
   "execution_count": 64,
   "metadata": {},
   "outputs": [
    {
     "data": {
      "text/plain": [
       "'The answer is : Narendra Modi'"
      ]
     },
     "execution_count": 64,
     "metadata": {},
     "output_type": "execute_result"
    }
   ],
   "source": [
    "bot.bot_reply(\"Who is the PM of India?\")"
   ]
  },
  {
   "cell_type": "code",
   "execution_count": 65,
   "metadata": {},
   "outputs": [
    {
     "data": {
      "text/plain": [
       "('2023-03-09T08:21:21.918641', '2023-03-09T08:21:21.918641')"
      ]
     },
     "execution_count": 65,
     "metadata": {},
     "output_type": "execute_result"
    }
   ],
   "source": [
    "bot.last_update, bot.last_bot_interaction"
   ]
  },
  {
   "cell_type": "code",
   "execution_count": 38,
   "metadata": {},
   "outputs": [
    {
     "data": {
      "text/plain": [
       "'knowledge bank does not have this answer at this moment'"
      ]
     },
     "execution_count": 38,
     "metadata": {},
     "output_type": "execute_result"
    }
   ],
   "source": [
    "bot.bot_reply(\"What is the day today?\")"
   ]
  },
  {
   "cell_type": "code",
   "execution_count": 39,
   "metadata": {},
   "outputs": [],
   "source": [
    "bot.set_knowlege_bank(\"./knowledge_bank.json\")"
   ]
  },
  {
   "cell_type": "code",
   "execution_count": 40,
   "metadata": {},
   "outputs": [
    {
     "data": {
      "text/plain": [
       "'The answer is : Thursday'"
      ]
     },
     "execution_count": 40,
     "metadata": {},
     "output_type": "execute_result"
    }
   ],
   "source": [
    "bot.bot_reply(\"What is the day today?\")"
   ]
  },
  {
   "cell_type": "code",
   "execution_count": 68,
   "metadata": {},
   "outputs": [],
   "source": [
    "class Animal:\n",
    "    def talk(self):\n",
    "        return \"Animals do not talk\""
   ]
  },
  {
   "cell_type": "code",
   "execution_count": 69,
   "metadata": {},
   "outputs": [
    {
     "data": {
      "text/plain": [
       "'Animals do not talk'"
      ]
     },
     "execution_count": 69,
     "metadata": {},
     "output_type": "execute_result"
    }
   ],
   "source": [
    "Animal().talk()"
   ]
  },
  {
   "cell_type": "code",
   "execution_count": 72,
   "metadata": {},
   "outputs": [],
   "source": [
    "class Dog:\n",
    "    def speak(self):\n",
    "        return \"Dog barks\"\n",
    "    \n",
    "    def talk(self):\n",
    "        return \"Animals do not talk\""
   ]
  },
  {
   "cell_type": "code",
   "execution_count": 71,
   "metadata": {},
   "outputs": [
    {
     "data": {
      "text/plain": [
       "'Dog barks'"
      ]
     },
     "execution_count": 71,
     "metadata": {},
     "output_type": "execute_result"
    }
   ],
   "source": [
    "Dog().speak()"
   ]
  },
  {
   "cell_type": "code",
   "execution_count": 73,
   "metadata": {},
   "outputs": [
    {
     "data": {
      "text/plain": [
       "'Animals do not talk'"
      ]
     },
     "execution_count": 73,
     "metadata": {},
     "output_type": "execute_result"
    }
   ],
   "source": [
    "Dog().talk()"
   ]
  },
  {
   "cell_type": "code",
   "execution_count": null,
   "metadata": {},
   "outputs": [],
   "source": [
    "class DogLegacy:\n",
    "    def speak(self):\n",
    "        return \"Dog barks\"\n",
    "    \n",
    "    def talk(self):\n",
    "        return \"Animals do not talk\""
   ]
  },
  {
   "cell_type": "code",
   "execution_count": 74,
   "metadata": {},
   "outputs": [],
   "source": [
    "class Animal:\n",
    "    def talk(self):\n",
    "        return \"Animals do not talk\"\n",
    "    \n",
    "    \n",
    "class Dog(Animal):\n",
    "    def speak(self):\n",
    "        return \"Dog barks\""
   ]
  },
  {
   "cell_type": "code",
   "execution_count": 77,
   "metadata": {},
   "outputs": [
    {
     "data": {
      "text/plain": [
       "'Animals do not talk'"
      ]
     },
     "execution_count": 77,
     "metadata": {},
     "output_type": "execute_result"
    }
   ],
   "source": [
    "Dog().talk()"
   ]
  },
  {
   "cell_type": "code",
   "execution_count": 75,
   "metadata": {},
   "outputs": [
    {
     "data": {
      "text/plain": [
       "'Animals do not talk'"
      ]
     },
     "execution_count": 75,
     "metadata": {},
     "output_type": "execute_result"
    }
   ],
   "source": [
    "Animal().talk()"
   ]
  },
  {
   "cell_type": "code",
   "execution_count": 76,
   "metadata": {},
   "outputs": [
    {
     "data": {
      "text/plain": [
       "'Dog barks'"
      ]
     },
     "execution_count": 76,
     "metadata": {},
     "output_type": "execute_result"
    }
   ],
   "source": [
    "Dog().speak()"
   ]
  },
  {
   "cell_type": "code",
   "execution_count": null,
   "metadata": {},
   "outputs": [],
   "source": []
  }
 ],
 "metadata": {
  "kernelspec": {
   "display_name": "Python 3",
   "language": "python",
   "name": "python3"
  },
  "language_info": {
   "codemirror_mode": {
    "name": "ipython",
    "version": 3
   },
   "file_extension": ".py",
   "mimetype": "text/x-python",
   "name": "python",
   "nbconvert_exporter": "python",
   "pygments_lexer": "ipython3",
   "version": "3.9.16"
  },
  "orig_nbformat": 4
 },
 "nbformat": 4,
 "nbformat_minor": 2
}
